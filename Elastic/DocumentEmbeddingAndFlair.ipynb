{
 "cells": [
  {
   "cell_type": "code",
   "execution_count": 1,
   "metadata": {},
   "outputs": [],
   "source": [
    "from flair.embeddings import WordEmbeddings\n",
    "from flair.data import Sentence"
   ]
  },
  {
   "cell_type": "code",
   "execution_count": 3,
   "metadata": {},
   "outputs": [],
   "source": [
    "from flair.embeddings import DocumentPoolEmbeddings"
   ]
  },
  {
   "cell_type": "code",
   "execution_count": 2,
   "metadata": {
    "scrolled": true
   },
   "outputs": [
    {
     "name": "stdout",
     "output_type": "stream",
     "text": [
      "2021-05-02 16:12:02,033 https://flair.informatik.hu-berlin.de/resources/embeddings/token/de-crawl-fasttext-300d-1M.vectors.npy not found in cache, downloading to C:\\Users\\Doman\\AppData\\Local\\Temp\\tmpdo3loa6u\n"
     ]
    },
    {
     "name": "stderr",
     "output_type": "stream",
     "text": [
      "100%|██████████████████████████████████████████████████████████████| 1199998928/1199998928 [07:43<00:00, 2587601.52B/s]"
     ]
    },
    {
     "name": "stdout",
     "output_type": "stream",
     "text": [
      "2021-05-02 16:19:46,007 copying C:\\Users\\Doman\\AppData\\Local\\Temp\\tmpdo3loa6u to cache at C:\\Users\\Doman\\.flair\\embeddings\\de-crawl-fasttext-300d-1M.vectors.npy\n"
     ]
    },
    {
     "name": "stderr",
     "output_type": "stream",
     "text": [
      "\n"
     ]
    },
    {
     "name": "stdout",
     "output_type": "stream",
     "text": [
      "2021-05-02 16:19:47,344 removing temp file C:\\Users\\Doman\\AppData\\Local\\Temp\\tmpdo3loa6u\n",
      "2021-05-02 16:19:47,593 https://flair.informatik.hu-berlin.de/resources/embeddings/token/de-crawl-fasttext-300d-1M not found in cache, downloading to C:\\Users\\Doman\\AppData\\Local\\Temp\\tmpbqqjb3yp\n"
     ]
    },
    {
     "name": "stderr",
     "output_type": "stream",
     "text": [
      "100%|██████████████████████████████████████████████████████████████████| 42677439/42677439 [00:06<00:00, 7092649.22B/s]"
     ]
    },
    {
     "name": "stdout",
     "output_type": "stream",
     "text": [
      "2021-05-02 16:19:53,877 copying C:\\Users\\Doman\\AppData\\Local\\Temp\\tmpbqqjb3yp to cache at C:\\Users\\Doman\\.flair\\embeddings\\de-crawl-fasttext-300d-1M\n"
     ]
    },
    {
     "name": "stderr",
     "output_type": "stream",
     "text": [
      "\n"
     ]
    },
    {
     "name": "stdout",
     "output_type": "stream",
     "text": [
      "2021-05-02 16:19:53,935 removing temp file C:\\Users\\Doman\\AppData\\Local\\Temp\\tmpbqqjb3yp\n"
     ]
    }
   ],
   "source": [
    "german_embedding = WordEmbeddings('de-crawl')"
   ]
  },
  {
   "cell_type": "code",
   "execution_count": 4,
   "metadata": {},
   "outputs": [],
   "source": [
    "document_embeddings = DocumentPoolEmbeddings([german_embedding])"
   ]
  },
  {
   "cell_type": "code",
   "execution_count": 5,
   "metadata": {},
   "outputs": [],
   "source": [
    "sentence = Sentence('Ausbildungsvorschriften Lehrberufe BGBl Nummer 491/1973 Typ V d. BMHGI /Artikel/Anlage 2 Inkrafttretensdatum 01.10.1973 Index 50/04 Berufsausbildung None:§    2 Verordnung tritt 1    Oktober 1973 Kraft Zuletzt aktualisieren 24.05.2017 Gesetzesnummer 10006307 Dokumentnummer NOR12069515 alt Dokumentnummer N51973136760')"
   ]
  },
  {
   "cell_type": "code",
   "execution_count": 8,
   "metadata": {},
   "outputs": [
    {
     "data": {
      "text/plain": [
       "Sentence: \"Ausbildungsvorschriften Lehrberufe BGBl Nummer 491 / 1973 Typ V d . BMHGI / Artikel / Anlage 2 Inkrafttretensdatum 01.10.1973 Index 50 / 04 Berufsausbildung None :§ 2 Verordnung tritt 1 Oktober 1973 Kraft Zuletzt aktualisieren 24.05.2017 Gesetzesnummer 10006307 Dokumentnummer NOR12069515 alt Dokumentnummer N51973136760\"   [− Tokens: 43]"
      ]
     },
     "execution_count": 8,
     "metadata": {},
     "output_type": "execute_result"
    }
   ],
   "source": [
    "sentence"
   ]
  },
  {
   "cell_type": "code",
   "execution_count": 9,
   "metadata": {},
   "outputs": [],
   "source": [
    "document_embeddings.embed(sentence)"
   ]
  },
  {
   "cell_type": "code",
   "execution_count": 11,
   "metadata": {},
   "outputs": [
    {
     "name": "stdout",
     "output_type": "stream",
     "text": [
      "300\n"
     ]
    }
   ],
   "source": [
    "print(len(sentence.embedding))"
   ]
  },
  {
   "cell_type": "code",
   "execution_count": 5,
   "metadata": {},
   "outputs": [],
   "source": [
    "sentence = Sentence('Gericht Verwaltungsgerichtshof Entscheidungsdatum 26.09.1973 Geschäftszahl 1650/72 Rechtssatz Differenzierung 2 Abs 3 UStG 1959 begünstigen Private betrieben Schwimmbad geradezu unsachlich')"
   ]
  },
  {
   "cell_type": "code",
   "execution_count": 13,
   "metadata": {},
   "outputs": [],
   "source": [
    "document_embeddings.embed(sentence)"
   ]
  },
  {
   "cell_type": "code",
   "execution_count": 14,
   "metadata": {},
   "outputs": [
    {
     "name": "stdout",
     "output_type": "stream",
     "text": [
      "300\n"
     ]
    }
   ],
   "source": [
    "print(len(sentence.embedding))"
   ]
  },
  {
   "cell_type": "code",
   "execution_count": 7,
   "metadata": {},
   "outputs": [],
   "source": [
    "from flair.embeddings import TransformerDocumentEmbeddings"
   ]
  },
  {
   "cell_type": "code",
   "execution_count": 8,
   "metadata": {},
   "outputs": [],
   "source": [
    "embedding = TransformerDocumentEmbeddings('bert-base-german-cased')"
   ]
  },
  {
   "cell_type": "code",
   "execution_count": 6,
   "metadata": {},
   "outputs": [
    {
     "data": {
      "text/plain": [
       "[Sentence: \"Gericht Verwaltungsgerichtshof Entscheidungsdatum 26.09.1973 Geschäftszahl 1650 / 72 Rechtssatz Differenzierung 2 Abs 3 UStG 1959 begünstigen Private betrieben Schwimmbad geradezu unsachlich\"   [− Tokens: 21]]"
      ]
     },
     "execution_count": 6,
     "metadata": {},
     "output_type": "execute_result"
    }
   ],
   "source": [
    "embedding.embed(sentence)"
   ]
  },
  {
   "cell_type": "code",
   "execution_count": 7,
   "metadata": {},
   "outputs": [
    {
     "name": "stdout",
     "output_type": "stream",
     "text": [
      "768\n"
     ]
    }
   ],
   "source": [
    "print(len(sentence.embedding))"
   ]
  },
  {
   "cell_type": "code",
   "execution_count": 4,
   "metadata": {},
   "outputs": [
    {
     "name": "stdout",
     "output_type": "stream",
     "text": [
      "All Modules Loaded!\n",
      "\n"
     ]
    }
   ],
   "source": [
    "try:\n",
    "    import os\n",
    "    import sys\n",
    "    import elasticsearch\n",
    "    from elasticsearch import Elasticsearch, helpers\n",
    "\n",
    "    print(\"All Modules Loaded!\\n\")\n",
    "except Exception as e:\n",
    "    print(\"Some Modules are missing {}\\n\".format(e))"
   ]
  },
  {
   "cell_type": "code",
   "execution_count": 5,
   "metadata": {},
   "outputs": [
    {
     "name": "stdout",
     "output_type": "stream",
     "text": [
      "Elasticsearch is working properly.\n",
      "\n"
     ]
    }
   ],
   "source": [
    "es = Elasticsearch([{'host': 'localhost', 'port': 9200}])\n",
    "if es.ping():\n",
    "    print(\"Elasticsearch is working properly.\\n\")\n",
    "else:\n",
    "    print(\"There is a problem with Elasticsearch.\\n\")"
   ]
  },
  {
   "cell_type": "code",
   "execution_count": 15,
   "metadata": {},
   "outputs": [],
   "source": [
    "with open(\"laws.txt\", encoding='utf-8') as f:\n",
    "    all_laws = f.readlines()\n",
    "all_laws = [x.strip() for x in all_laws]"
   ]
  },
  {
   "cell_type": "code",
   "execution_count": 16,
   "metadata": {},
   "outputs": [
    {
     "data": {
      "text/plain": [
       "'Bundes-Wohn- Siedlungsfonds Verlautbarung Statuts BGBl Nummer 187/1925 aufheben BGBl I Nummer 191/1999 /Artikel/Anlage Art 43 Inkrafttretensdatum 23.06.1925 Außerkrafttretensdatum 31.12.2009 1 Falle Fondshilfe stehen Amt Grundstück Bauführungen Baulichkeiten Fondshilfewerber jederzeit besichtigen lassen 2 Fondshilfe gemeinnützig Bau Siedlungs vereinigung Stiftung währen Amt überdies berechtigen allgemein Überwachung ausüben Handhabung Überwachung stehen Amt insbesondere 3 Fondshilfewerber verpflichten Besichtigung Grundstück Bauführungen Baulichkeiten gestatten erforderlich Beleg vorweisen Gemeinnützige Bau Siedlungs vereinigungen Stiftung überdies verpflichten 4 Gemeinnützige Bau Siedlungs vereinigungen Fondshilfe gemäß 7 Absatz 4 lit e f währen absehen Absatz 3 auferlegen Verpflichtung Amt Generalversammlung Tagesordnung Beschlußfassung Rechnungsabschluß stehen Einladung Mitglied Gesellschafter Generalversammlung satzungsgemäß festgesetzt Frist Einsendung Entwurf Rechnungsabschlusses anzeigen 5 Bestimmung vorhergehenden Absatz gelten sinngemäß 7 Absatz 2 bezeichnen juristisch Person Fondshilfe Anspruch nehmen Überwachung Amt unterwerfen Gebührenbefreiung erlangen 6 Kosten Überwachung tragen Fond'"
      ]
     },
     "execution_count": 16,
     "metadata": {},
     "output_type": "execute_result"
    }
   ],
   "source": [
    "all_laws[0]"
   ]
  },
  {
   "cell_type": "code",
   "execution_count": 3,
   "metadata": {},
   "outputs": [],
   "source": [
    "def vektorositas(data):\n",
    "    sentence = Sentence(Convert(data))\n",
    "    embedding.embed(sentence)\n",
    "    return sentence.embedding.detach().numpy()"
   ]
  },
  {
   "cell_type": "code",
   "execution_count": 37,
   "metadata": {},
   "outputs": [],
   "source": [
    "sentence = Sentence(\"all_laws\")"
   ]
  },
  {
   "cell_type": "code",
   "execution_count": 52,
   "metadata": {},
   "outputs": [
    {
     "name": "stdout",
     "output_type": "stream",
     "text": [
      "0\n"
     ]
    }
   ],
   "source": [
    "print(len(sentence.embedding))"
   ]
  },
  {
   "cell_type": "code",
   "execution_count": 66,
   "metadata": {},
   "outputs": [
    {
     "name": "stdout",
     "output_type": "stream",
     "text": [
      "[ 3.03979963e-01  8.77832949e-01  2.22096741e-01  1.43449879e+00\n",
      "  3.03910613e-01  8.44712734e-01 -1.07613194e+00  8.17642152e-01\n",
      " -3.79929766e-02 -7.49902844e-01 -7.90224671e-02 -4.56849515e-01\n",
      "  5.96818402e-02 -1.25507200e+00 -3.98420185e-01 -1.03458250e+00\n",
      " -3.59713435e-01  5.15558198e-02 -7.50125647e-02  6.03903651e-01\n",
      " -1.67265072e-01  7.46321008e-02 -1.95420802e-01 -3.61447811e-01\n",
      " -2.04459131e-02  3.96113127e-01  4.52327847e-01  1.39588729e-01\n",
      " -2.17784792e-02 -3.67087841e-01 -3.76019567e-01  5.40044606e-01\n",
      "  8.19816589e-02  3.41930509e-01  6.22446537e-01 -2.56985933e-01\n",
      "  2.96568513e-01  1.32309720e-01 -1.13107488e-01 -1.52970552e-01\n",
      "  1.31962228e+00  4.31906790e-01 -1.32834136e-01  3.81671965e-01\n",
      "  3.92700642e-01 -4.82274890e-02  5.31295061e-01  9.66132045e-01\n",
      "  4.01906878e-01  5.11255026e-01  1.80447906e-01  1.09561980e-01\n",
      " -4.33428675e-01 -6.58875108e-01 -2.42333233e-01 -6.03643000e-01\n",
      "  1.96605206e-01 -9.66223478e-01 -3.62615913e-01 -5.89065969e-01\n",
      " -1.90740228e-01  1.55015361e+00  3.26513231e-01  4.43209708e-01\n",
      " -1.30109012e-01  6.67046666e-01  3.42921913e-01 -2.89523602e-01\n",
      " -7.91278362e-01 -5.78085482e-01 -4.10145462e-01 -7.73262382e-01\n",
      " -1.90726066e+00 -4.03228283e-01 -1.03380896e-01  1.48173377e-01\n",
      " -1.54831067e-01  2.17842788e-01  7.07342848e-02  5.21534979e-01\n",
      " -4.18854505e-03  9.35382962e-01 -2.40533456e-01 -2.39793092e-01\n",
      " -3.10022905e-02 -4.49853987e-01  6.39009118e-01 -2.01148950e-02\n",
      "  5.90503104e-02 -7.86518604e-02 -2.54270792e-01 -9.13938507e-02\n",
      " -7.77956009e-01  2.60675043e-01  5.85331321e-01  2.23262459e-02\n",
      " -4.21345413e-01 -2.34846607e-01 -3.52690876e-01 -2.74869144e-01\n",
      " -1.21274702e-01 -1.67954430e-01  3.49466115e-01 -3.50026280e-01\n",
      "  2.29626954e-01 -4.39604759e-01  2.02866167e-01  2.93188155e-01\n",
      " -1.23852536e-01 -6.14459813e-03 -1.06637292e-01  1.36927414e+00\n",
      " -3.65840614e-01  5.46122193e-01 -6.62525177e-01 -4.96381462e-01\n",
      "  4.38713506e-02 -5.89074850e-01  7.44908273e-01  1.08169122e-02\n",
      "  5.09780832e-02 -4.21919405e-01  1.94852427e-01 -5.91014326e-01\n",
      " -9.10522163e-01 -4.61074501e-01 -5.84605396e-01  2.96443969e-01\n",
      " -4.90123510e-01  1.08804262e+00 -3.10845196e-01  1.42380208e-01\n",
      " -9.00349140e-01  4.60943356e-02 -2.40975872e-01  1.47627020e+00\n",
      " -3.13319713e-01  3.61080980e-03 -5.47948539e-01  4.29138362e-01\n",
      " -3.02243024e-01  4.73138660e-01 -5.91455162e-01 -1.00742173e+00\n",
      "  2.59434044e-01  3.59167933e-01  5.44396102e-01 -6.38882995e-01\n",
      "  1.09436750e+00 -4.31281209e-01  1.00722492e+00 -1.88871771e-01\n",
      "  1.26798362e-01  1.04918623e+00  8.20651889e-01 -4.73722398e-01\n",
      " -3.49555641e-01 -4.33061987e-01  3.77162844e-01  5.46580195e-01\n",
      "  6.96378052e-01  8.99622798e-01 -4.29758877e-02  1.02112162e+00\n",
      "  3.92300725e-01  4.06698316e-01 -5.28048754e-01 -4.68766123e-01\n",
      " -1.35123730e-03 -2.10005760e-01 -4.26972598e-01  1.85202777e-01\n",
      "  2.92585313e-01 -5.82510084e-02 -1.68030426e-01 -6.26904011e-01\n",
      "  1.41975075e-01  6.48271143e-01  2.38593400e-01  1.72987178e-01\n",
      "  6.31583929e-02 -8.33839357e-01  2.28125334e-01  2.29085326e-01\n",
      " -4.43408161e-01 -4.25433606e-01  1.17309377e-01  1.60709590e-01\n",
      "  4.00332004e-01 -1.60342544e-01 -6.29685700e-01 -7.19453096e-02\n",
      "  5.97946763e-01 -2.44537696e-01  5.95882177e-01 -4.43948060e-01\n",
      " -4.58627164e-01 -1.56938404e-01 -7.65463829e-01 -2.02731490e-02\n",
      " -4.45130378e-01  1.13673061e-01  6.61406100e-01 -4.87423062e-01\n",
      " -1.41650409e-01  2.64958501e-01 -3.48067284e-01 -7.47735083e-01\n",
      "  4.75570224e-02  5.47422841e-02 -6.31302178e-01 -7.46428430e-01\n",
      " -1.01429248e+00  4.58795875e-02 -3.30298662e-01  4.91574734e-01\n",
      "  2.87158173e-02 -8.18696797e-01 -2.91893601e-01  6.56520903e-01\n",
      " -1.00948073e-01  3.68885547e-02  6.30377412e-01 -2.03230605e-01\n",
      " -2.26130748e+00 -6.65804267e-01 -3.16542089e-01 -1.05649221e+00\n",
      " -1.31359771e-01 -7.31212199e-02 -9.54615474e-01 -1.91907600e-01\n",
      "  5.35010338e-01 -7.00259328e-01  2.48675779e-01  4.75316532e-02\n",
      "  3.11287373e-01  1.39713451e-01  3.34520996e-01  8.88746560e-01\n",
      " -1.38034731e-01 -2.34571123e+00  4.97196048e-01 -2.44718298e-01\n",
      " -4.12599981e-01  6.17937386e-01  7.11013258e-01  3.55000138e-01\n",
      " -7.95491695e-01 -2.57253468e-01  8.02013755e-01  4.47822809e-01\n",
      "  2.90064275e-01  4.48020846e-01  2.68537015e-01  9.60741565e-02\n",
      "  4.42706048e-01  2.17885554e-01  4.99680281e-01  4.80926573e-01\n",
      "  1.29461065e-01 -1.76005721e-01 -2.25487784e-01 -7.51844108e-01\n",
      " -7.56317198e-01 -7.37340748e-02 -4.75494742e-01  1.08853266e-01\n",
      "  5.31386510e-02 -3.07182729e-01 -1.26484782e-01 -8.79070684e-02\n",
      "  9.23820317e-01 -3.93255830e-01 -4.27302390e-01 -4.46102679e-01\n",
      " -2.26631850e-01  7.93700933e-01 -2.34662697e-01  2.07954898e-01\n",
      "  1.29699433e+00 -7.95357823e-01 -2.45322838e-01  1.28642738e+00\n",
      " -3.37982416e-01 -3.30222130e-01 -4.05859411e-01  3.85373116e-01\n",
      " -2.15968177e-01  4.23275948e-01 -6.28429204e-02 -5.05199611e-01\n",
      "  9.08896625e-01  1.66633666e-01 -4.34782505e-01  3.69248569e-01\n",
      " -1.09246325e+00  8.58214378e-01  1.18478939e-01  2.96124935e-01\n",
      "  7.66182661e-01  7.22199738e-01  7.67575920e-01 -1.82068586e-01\n",
      "  2.40981713e-01  4.76347297e-01 -2.00446099e-01  5.23719668e-01\n",
      " -1.02969252e-01 -2.18946069e-01  5.38566172e-01  5.10566175e-01\n",
      " -5.72617054e-01 -2.04477414e-01  7.34409988e-01  1.79737881e-01\n",
      " -3.93676490e-01  1.81205198e-01  9.14249182e-01 -3.96793216e-01\n",
      " -1.88536644e-01 -8.23911130e-01 -4.28397745e-01 -3.30698550e-01\n",
      "  4.12260257e-02 -7.38874733e-01  2.85708420e-02 -3.59037459e-01\n",
      " -4.75124508e-01 -8.79251510e-02  2.76537351e-02 -2.56868273e-01\n",
      "  1.90821081e-01  1.19015917e-01  1.08926404e+00 -4.54841167e-01\n",
      "  1.54316813e-01 -4.68060434e-01 -8.58028531e-01  3.82840663e-01\n",
      " -3.72759044e-01  4.59144711e-01 -2.45254949e-01  2.37753421e-01\n",
      "  1.01356193e-01  1.79452062e-01  6.22236013e-01 -2.76550770e-01\n",
      " -5.63806772e-01 -1.01676673e-01  9.83531177e-01  1.55289412e-01\n",
      "  9.77317393e-02  2.03148469e-01  3.50321755e-02 -1.23396611e+00\n",
      "  2.21275061e-01 -7.06389129e-01 -1.39245018e-01 -1.63498074e-01\n",
      "  7.68206418e-02 -4.82062906e-01  1.76957250e-01  4.93522793e-01\n",
      "  1.69257447e-02 -1.06676018e+00  1.47327691e-01  5.28733850e-01\n",
      " -3.63904089e-01  5.37018143e-02 -1.39200404e-01  5.99795997e-01\n",
      " -5.00507593e-01  3.58211428e-01  8.28658491e-02 -1.80453390e-01\n",
      " -9.57078189e-02 -4.35979635e-01  2.33411878e-01  7.55282223e-01\n",
      " -1.37468338e-01  1.41883165e-01 -6.26242280e-01 -5.65364838e-01\n",
      "  9.55298692e-02 -1.15072680e+00 -9.64464664e-01 -1.23972878e-01\n",
      " -1.51540503e-01 -9.26896095e-01 -9.06060994e-01  5.93005896e-01\n",
      " -3.23952556e-01  1.53224617e-01  2.94480950e-01 -8.31534982e-01\n",
      "  5.54554582e-01  3.28630060e-02 -8.94262075e-01 -5.19990772e-02\n",
      "  8.96343887e-02 -2.95830183e-02  1.03384316e+00  1.04933774e+00\n",
      " -2.88260698e-01  9.86189097e-02 -5.89964032e-01 -2.48249546e-01\n",
      "  5.26726425e-01  3.16364318e-03  3.89239609e-01 -5.44053614e-01\n",
      " -7.74738789e-01 -1.30523652e-01  8.51763487e-01 -3.41651291e-01\n",
      "  1.60237588e-02  8.48607540e-01 -6.87432438e-02  5.94760142e-02\n",
      "  1.05490193e-01 -9.34023619e-01 -7.52977550e-01  1.98617607e-01\n",
      " -4.28033203e-01  5.65061986e-01  3.08290869e-01  3.33446115e-01\n",
      "  4.73456293e-01 -1.29402411e+00  8.54428411e-01 -2.29596213e-01\n",
      " -8.56548548e-01  9.13613588e-02  4.91842628e-02  1.19012818e-01\n",
      " -1.11106133e+00 -6.37358904e-01  4.72525299e-01 -2.56083041e-01\n",
      "  4.51186687e-01 -1.10954523e+00  2.84789473e-01 -2.67508626e-01\n",
      "  5.32570004e-01  2.64912933e-01 -3.02536368e-01 -2.38191381e-01\n",
      "  3.39194208e-01 -1.80332109e-01  3.73746753e-02  5.94435990e-01\n",
      "  2.32960984e-01 -6.63201630e-01 -1.02058426e-01 -3.04370910e-01\n",
      "  1.89609423e-01  4.10742790e-01 -3.85713577e-01 -3.15516412e-01\n",
      " -1.21083927e+00 -4.94248629e-01  1.13385625e-01  3.89364809e-01\n",
      "  4.53644097e-01 -1.28813815e+00  3.17570299e-01 -5.46469092e-02\n",
      "  5.75574756e-01 -1.48435216e-03 -3.59221786e-01 -1.05208790e+00\n",
      "  1.03215709e-01 -5.44412956e-02 -1.32418185e-01 -2.16369331e-03\n",
      " -2.23477066e-01 -1.04108536e+00  3.59527498e-01  1.37312248e-01\n",
      " -2.03338638e-02 -8.35879445e-02 -7.49805719e-02 -5.17951930e-03\n",
      " -5.75497985e-01  2.47350842e-01 -1.41364604e-01 -3.14526379e-01\n",
      "  9.21327353e-01  5.18136919e-01 -1.26638258e+00 -1.86462060e-01\n",
      " -6.14117324e-01 -9.32614565e-01  3.85540575e-02 -5.28585792e-01\n",
      "  2.02441365e-02 -2.14653552e-01  6.05613530e-01 -2.36529455e-01\n",
      "  3.12959939e-01  5.58783710e-01 -8.09709489e-01 -1.12978196e+00\n",
      "  2.62695067e-02 -4.08493638e-01 -2.67813094e-02 -2.66027778e-01\n",
      " -8.50896388e-02 -5.60154855e-01  1.52965367e-01 -7.16407895e-01\n",
      " -9.30834413e-01 -2.78371274e-01  4.58634682e-02 -8.14216495e-01\n",
      " -5.50758615e-02  6.46927059e-01  1.83405638e-01  1.65810585e-01\n",
      " -7.27570713e-01  4.43758637e-01 -1.16676450e-01  4.74698275e-01\n",
      "  6.50766850e-01 -3.24991375e-01 -1.22843671e+00  7.60348856e-01\n",
      "  3.73887867e-01 -1.04917988e-01  4.29275483e-01  1.30759314e-01\n",
      "  9.11727250e-02  3.72837275e-01  5.67741215e-01 -1.20162517e-01\n",
      "  3.93245220e-01  5.17285466e-01 -6.66301787e-01 -3.68092984e-01\n",
      " -4.26002651e-01 -2.24662811e-01  2.73503959e-01  1.03257501e+00\n",
      " -3.94056261e-01  7.20381066e-02 -5.80509365e-01  6.28834784e-01\n",
      "  3.62846524e-01 -2.80804366e-01  7.09866658e-02  5.47549665e-01\n",
      " -4.88554329e-01 -2.77024031e-01 -6.57253191e-02  1.26801357e-01\n",
      "  1.66209474e-01 -7.59900331e-01 -1.52182609e-01 -1.01209712e+00\n",
      " -1.91090316e-01 -3.55391204e-01 -5.17020822e-01 -3.98692042e-01\n",
      " -4.65775877e-01  7.50479639e-01 -2.79390775e-02  3.90104443e-01\n",
      "  2.21932977e-01  8.33976448e-01  5.53479314e-01 -5.07196307e-01\n",
      " -2.66265303e-01 -2.10621536e-01 -9.64767486e-03  2.94188917e-01\n",
      " -5.43903530e-01 -2.76193678e-01  5.09541988e-01  3.79676253e-01\n",
      " -2.77626276e-01 -2.99946368e-01  4.01915073e-01  3.32987845e-01\n",
      "  8.90848041e-02 -7.65314162e-01 -1.39362738e-01  4.26014155e-01\n",
      "  5.40671170e-01 -5.98672450e-01 -4.51162726e-01 -8.82800043e-01\n",
      "  8.15254569e-01 -3.72415513e-01  7.32288361e-01 -8.34344104e-02\n",
      " -2.65739202e-01  4.85744983e-01  3.59554708e-01 -2.76520848e-01\n",
      " -3.75978291e-01 -6.13813341e-01 -6.12533838e-02 -2.58460753e-02\n",
      " -7.41515160e-01  6.02833509e-01 -8.34325999e-02  6.04583621e-01\n",
      " -1.41070724e+00 -1.38081715e-01 -8.17829788e-01  8.83067027e-02\n",
      " -1.07784912e-01 -7.89395049e-02  4.00635660e-01  8.26390803e-01\n",
      " -6.79983199e-02 -1.30395025e-01  1.15186781e-01  6.78569019e-01\n",
      "  1.35467559e-01  1.26566446e+00 -8.19156170e-01  3.59158218e-01\n",
      " -7.81233966e-01 -6.43410265e-01 -6.36674464e-03 -2.20937043e-01\n",
      "  5.23980260e-01 -3.90202075e-01  1.01860434e-01 -9.59527910e-01\n",
      "  6.92586422e-01  5.23916900e-01  6.33991584e-02  1.55510626e+01\n",
      " -2.05315083e-01  5.55349112e-01  1.88022688e-01 -6.37064874e-03\n",
      "  7.08616614e-01  8.10208678e-01  3.73142004e-01 -2.83664554e-01\n",
      "  5.45676053e-01 -3.59528363e-01  3.78491998e-01 -1.66378960e-01\n",
      "  6.12856805e-01  5.52156508e-01  5.34808040e-02 -4.45020407e-01\n",
      "  8.16362649e-02  2.91630849e-02  1.04345489e+00 -7.15709925e-01\n",
      " -7.11725652e-01  8.24327826e-01  8.99721831e-02 -4.57869411e-01\n",
      " -2.34986439e-01  1.20107569e-01 -4.16294038e-02 -2.50769794e-01\n",
      " -1.62570626e-01 -7.77042985e-01  5.97781897e-01  9.24927294e-01\n",
      " -1.25111032e+00 -6.48575053e-02 -5.81188798e-01 -3.68798643e-01\n",
      "  2.33613878e-01 -5.30784667e-01  4.59739178e-01 -8.98320556e-01\n",
      " -5.61690331e-01 -4.24133241e-01  2.98719764e-01  2.09143013e-02\n",
      "  7.75001496e-02 -1.06574678e+00 -1.05887853e-01  1.82646409e-01\n",
      "  6.33718669e-02  1.69470325e-01 -2.96253741e-01 -3.12567085e-01\n",
      " -6.43643260e-01  2.11063534e-01 -3.50649089e-01  5.96687376e-01\n",
      "  1.03512779e-01 -3.40912603e-02  1.19984508e+00 -9.06176329e-01\n",
      "  1.24843240e+00 -5.11426508e-01  1.26133844e-01 -5.12971818e-01\n",
      "  7.78102636e-01  3.00068021e-01  5.72579324e-01 -3.54770333e-01\n",
      " -7.34564960e-01 -5.13387561e-01  1.33359134e-01 -8.90934467e-01\n",
      "  6.17928207e-01 -2.87312903e-02 -7.38728285e-01 -5.45638740e-01\n",
      "  1.15780091e+00 -8.06589246e-01 -7.91254193e-02 -7.86815941e-01\n",
      " -3.06965530e-01  2.66693801e-01  7.62589127e-02 -2.74125218e-01\n",
      " -6.85157239e-01  9.86116350e-01 -3.50939363e-01 -5.29461324e-01\n",
      "  1.92023627e-02  5.74795604e-01  3.12549412e-01 -1.38731331e-01\n",
      "  8.52453113e-01  3.23093027e-01  1.55053198e-01  2.37253398e-01\n",
      "  6.98972940e-01 -9.69118476e-01  4.58924741e-01  9.62001503e-01\n",
      "  6.81160271e-01  7.49028623e-02  1.29794776e+00 -1.23450792e+00\n",
      "  3.08309102e+00  4.35797393e-01  4.96758521e-01 -3.34951222e-01\n",
      " -3.21908534e-01  3.75449538e-01  6.74002647e-01 -2.39214748e-01\n",
      " -5.26935875e-01 -1.99793801e-01  3.33125383e-01  8.29307318e-01\n",
      "  2.22187504e-01  5.85672557e-01 -1.17258036e+00  1.07155752e+00\n",
      "  1.22656894e+00 -3.26788783e-01 -1.92365229e-01 -5.00608206e-01\n",
      "  2.32470810e-01  5.36536336e-01  4.60835278e-01  2.24775374e-02\n",
      " -6.76534846e-02 -6.12964153e-01 -6.93395495e-01  1.10906735e-01]\n"
     ]
    }
   ],
   "source": [
    "print(vektorositas(all_laws[0]).detach().numpy())"
   ]
  },
  {
   "cell_type": "code",
   "execution_count": 4,
   "metadata": {},
   "outputs": [],
   "source": [
    "def Convert(string):\n",
    "    li = list(string.split(\" \"))\n",
    "    return li"
   ]
  },
  {
   "cell_type": "code",
   "execution_count": 61,
   "metadata": {},
   "outputs": [],
   "source": [
    "import numpy as np"
   ]
  },
  {
   "cell_type": "code",
   "execution_count": 50,
   "metadata": {},
   "outputs": [],
   "source": [
    "def generator(data):\n",
    "    for law in data:\n",
    "        yield {\n",
    "            \"_index\": \"bert_law\",\n",
    "            \"question\": law,\n",
    "            \"anwsere\": vektorositas(law),\n",
    "        }"
   ]
  },
  {
   "cell_type": "code",
   "execution_count": 2,
   "metadata": {},
   "outputs": [],
   "source": [
    "def generator(question,answere):\n",
    "    yield {\n",
    "        \"_index\": \"saved_laws\",\n",
    "        \"question\": question,\n",
    "        \"anwsere\": answere,\n",
    "    }"
   ]
  },
  {
   "cell_type": "code",
   "execution_count": 8,
   "metadata": {},
   "outputs": [
    {
     "name": "stdout",
     "output_type": "stream",
     "text": [
      "Data successfully uploaded.\n"
     ]
    }
   ],
   "source": [
    "try:\n",
    "    helpers.bulk(es, generator(\"esd\",\"asd\"))\n",
    "    print(\"Data successfully uploaded.\")\n",
    "except Exception as e:\n",
    "    print(\"Something went wrong during upload {}\".format(e))"
   ]
  },
  {
   "cell_type": "code",
   "execution_count": 9,
   "metadata": {},
   "outputs": [],
   "source": [
    "veki=vektorositas(\"Griechenland Österreich interessieren Minimalsätze Tarif Stelle\")"
   ]
  },
  {
   "cell_type": "code",
   "execution_count": 10,
   "metadata": {},
   "outputs": [],
   "source": [
    "body = {\n",
    "    \"query\": {\n",
    "        \"script_score\": {\n",
    "        \"query\": {\"match_all\": {}},\n",
    "        \"script\": {\n",
    "          \"source\": \"cosineSimilarity(params.query_vector, 'law_vector') + 1.0\",\n",
    "          \"params\": {\"query_vector\": veki}\n",
    "        }\n",
    "      }\n",
    "    }\n",
    "}"
   ]
  },
  {
   "cell_type": "code",
   "execution_count": 38,
   "metadata": {},
   "outputs": [
    {
     "name": "stdout",
     "output_type": "stream",
     "text": [
      "The result:\n",
      "\n",
      "0\n"
     ]
    }
   ],
   "source": [
    "result = es.search(index='saved_laws', body=body)\n",
    "print(\"The result:\\n\")\n",
    "print(result['hits']['total']['value'])"
   ]
  },
  {
   "cell_type": "code",
   "execution_count": 32,
   "metadata": {},
   "outputs": [
    {
     "name": "stdout",
     "output_type": "stream",
     "text": [
      "The result:\n",
      "\n",
      "{'took': 2, 'timed_out': False, '_shards': {'total': 1, 'successful': 1, 'skipped': 0, 'failed': 0}, 'hits': {'total': {'value': 1, 'relation': 'eq'}, 'max_score': 0.2876821, 'hits': [{'_index': 'saved_laws', '_type': '_doc', '_id': 'NVcUIH0BTLRiPHw7RWFb', '_score': 0.2876821, '_source': {'question': 'kerdes', 'anwsere': 'valasz'}}]}}\n"
     ]
    }
   ],
   "source": [
    "result = es.search(index='saved_laws', body=body)\n",
    "print(\"The result:\\n\")\n",
    "print(result)"
   ]
  },
  {
   "cell_type": "code",
   "execution_count": 39,
   "metadata": {},
   "outputs": [],
   "source": [
    "body = {\n",
    "    \"question\": \"asd\",\n",
    "    \"anwsere\": \"aese\"\n",
    "}"
   ]
  },
  {
   "cell_type": "code",
   "execution_count": 45,
   "metadata": {},
   "outputs": [
    {
     "ename": "TransportError",
     "evalue": "TransportError(429, 'cluster_block_exception', 'index [console_law] blocked by: [TOO_MANY_REQUESTS/12/disk usage exceeded flood-stage watermark, index has read-only-allow-delete block];')",
     "output_type": "error",
     "traceback": [
      "\u001b[1;31m---------------------------------------------------------------------------\u001b[0m",
      "\u001b[1;31mTransportError\u001b[0m                            Traceback (most recent call last)",
      "\u001b[1;32m<ipython-input-45-37ecae15c483>\u001b[0m in \u001b[0;36m<module>\u001b[1;34m\u001b[0m\n\u001b[1;32m----> 1\u001b[1;33m \u001b[0mresult\u001b[0m \u001b[1;33m=\u001b[0m \u001b[0mes\u001b[0m\u001b[1;33m.\u001b[0m\u001b[0mindex\u001b[0m\u001b[1;33m(\u001b[0m\u001b[0mindex\u001b[0m\u001b[1;33m=\u001b[0m\u001b[1;34m'console_law'\u001b[0m\u001b[1;33m,\u001b[0m \u001b[0mbody\u001b[0m\u001b[1;33m=\u001b[0m\u001b[0mbody\u001b[0m\u001b[1;33m)\u001b[0m\u001b[1;33m\u001b[0m\u001b[1;33m\u001b[0m\u001b[0m\n\u001b[0m",
      "\u001b[1;32mC:\\ProgramData\\Anaconda3\\lib\\site-packages\\elasticsearch\\client\\utils.py\u001b[0m in \u001b[0;36m_wrapped\u001b[1;34m(*args, **kwargs)\u001b[0m\n\u001b[0;32m    150\u001b[0m                 \u001b[1;32mif\u001b[0m \u001b[0mp\u001b[0m \u001b[1;32min\u001b[0m \u001b[0mkwargs\u001b[0m\u001b[1;33m:\u001b[0m\u001b[1;33m\u001b[0m\u001b[1;33m\u001b[0m\u001b[0m\n\u001b[0;32m    151\u001b[0m                     \u001b[0mparams\u001b[0m\u001b[1;33m[\u001b[0m\u001b[0mp\u001b[0m\u001b[1;33m]\u001b[0m \u001b[1;33m=\u001b[0m \u001b[0mkwargs\u001b[0m\u001b[1;33m.\u001b[0m\u001b[0mpop\u001b[0m\u001b[1;33m(\u001b[0m\u001b[0mp\u001b[0m\u001b[1;33m)\u001b[0m\u001b[1;33m\u001b[0m\u001b[1;33m\u001b[0m\u001b[0m\n\u001b[1;32m--> 152\u001b[1;33m             \u001b[1;32mreturn\u001b[0m \u001b[0mfunc\u001b[0m\u001b[1;33m(\u001b[0m\u001b[1;33m*\u001b[0m\u001b[0margs\u001b[0m\u001b[1;33m,\u001b[0m \u001b[0mparams\u001b[0m\u001b[1;33m=\u001b[0m\u001b[0mparams\u001b[0m\u001b[1;33m,\u001b[0m \u001b[0mheaders\u001b[0m\u001b[1;33m=\u001b[0m\u001b[0mheaders\u001b[0m\u001b[1;33m,\u001b[0m \u001b[1;33m**\u001b[0m\u001b[0mkwargs\u001b[0m\u001b[1;33m)\u001b[0m\u001b[1;33m\u001b[0m\u001b[1;33m\u001b[0m\u001b[0m\n\u001b[0m\u001b[0;32m    153\u001b[0m \u001b[1;33m\u001b[0m\u001b[0m\n\u001b[0;32m    154\u001b[0m         \u001b[1;32mreturn\u001b[0m \u001b[0m_wrapped\u001b[0m\u001b[1;33m\u001b[0m\u001b[1;33m\u001b[0m\u001b[0m\n",
      "\u001b[1;32mC:\\ProgramData\\Anaconda3\\lib\\site-packages\\elasticsearch\\client\\__init__.py\u001b[0m in \u001b[0;36mindex\u001b[1;34m(self, index, body, doc_type, id, params, headers)\u001b[0m\n\u001b[0;32m    400\u001b[0m             \u001b[0mparams\u001b[0m\u001b[1;33m=\u001b[0m\u001b[0mparams\u001b[0m\u001b[1;33m,\u001b[0m\u001b[1;33m\u001b[0m\u001b[1;33m\u001b[0m\u001b[0m\n\u001b[0;32m    401\u001b[0m             \u001b[0mheaders\u001b[0m\u001b[1;33m=\u001b[0m\u001b[0mheaders\u001b[0m\u001b[1;33m,\u001b[0m\u001b[1;33m\u001b[0m\u001b[1;33m\u001b[0m\u001b[0m\n\u001b[1;32m--> 402\u001b[1;33m             \u001b[0mbody\u001b[0m\u001b[1;33m=\u001b[0m\u001b[0mbody\u001b[0m\u001b[1;33m,\u001b[0m\u001b[1;33m\u001b[0m\u001b[1;33m\u001b[0m\u001b[0m\n\u001b[0m\u001b[0;32m    403\u001b[0m         )\n\u001b[0;32m    404\u001b[0m \u001b[1;33m\u001b[0m\u001b[0m\n",
      "\u001b[1;32mC:\\ProgramData\\Anaconda3\\lib\\site-packages\\elasticsearch\\transport.py\u001b[0m in \u001b[0;36mperform_request\u001b[1;34m(self, method, url, headers, params, body)\u001b[0m\n\u001b[0;32m    413\u001b[0m                         \u001b[1;32mraise\u001b[0m \u001b[0me\u001b[0m\u001b[1;33m\u001b[0m\u001b[1;33m\u001b[0m\u001b[0m\n\u001b[0;32m    414\u001b[0m                 \u001b[1;32melse\u001b[0m\u001b[1;33m:\u001b[0m\u001b[1;33m\u001b[0m\u001b[1;33m\u001b[0m\u001b[0m\n\u001b[1;32m--> 415\u001b[1;33m                     \u001b[1;32mraise\u001b[0m \u001b[0me\u001b[0m\u001b[1;33m\u001b[0m\u001b[1;33m\u001b[0m\u001b[0m\n\u001b[0m\u001b[0;32m    416\u001b[0m \u001b[1;33m\u001b[0m\u001b[0m\n\u001b[0;32m    417\u001b[0m             \u001b[1;32melse\u001b[0m\u001b[1;33m:\u001b[0m\u001b[1;33m\u001b[0m\u001b[1;33m\u001b[0m\u001b[0m\n",
      "\u001b[1;32mC:\\ProgramData\\Anaconda3\\lib\\site-packages\\elasticsearch\\transport.py\u001b[0m in \u001b[0;36mperform_request\u001b[1;34m(self, method, url, headers, params, body)\u001b[0m\n\u001b[0;32m    386\u001b[0m                     \u001b[0mheaders\u001b[0m\u001b[1;33m=\u001b[0m\u001b[0mheaders\u001b[0m\u001b[1;33m,\u001b[0m\u001b[1;33m\u001b[0m\u001b[1;33m\u001b[0m\u001b[0m\n\u001b[0;32m    387\u001b[0m                     \u001b[0mignore\u001b[0m\u001b[1;33m=\u001b[0m\u001b[0mignore\u001b[0m\u001b[1;33m,\u001b[0m\u001b[1;33m\u001b[0m\u001b[1;33m\u001b[0m\u001b[0m\n\u001b[1;32m--> 388\u001b[1;33m                     \u001b[0mtimeout\u001b[0m\u001b[1;33m=\u001b[0m\u001b[0mtimeout\u001b[0m\u001b[1;33m,\u001b[0m\u001b[1;33m\u001b[0m\u001b[1;33m\u001b[0m\u001b[0m\n\u001b[0m\u001b[0;32m    389\u001b[0m                 )\n\u001b[0;32m    390\u001b[0m \u001b[1;33m\u001b[0m\u001b[0m\n",
      "\u001b[1;32mC:\\ProgramData\\Anaconda3\\lib\\site-packages\\elasticsearch\\connection\\http_urllib3.py\u001b[0m in \u001b[0;36mperform_request\u001b[1;34m(self, method, url, params, body, timeout, ignore, headers)\u001b[0m\n\u001b[0;32m    271\u001b[0m                 \u001b[0mmethod\u001b[0m\u001b[1;33m,\u001b[0m \u001b[0mfull_url\u001b[0m\u001b[1;33m,\u001b[0m \u001b[0murl\u001b[0m\u001b[1;33m,\u001b[0m \u001b[0morig_body\u001b[0m\u001b[1;33m,\u001b[0m \u001b[0mduration\u001b[0m\u001b[1;33m,\u001b[0m \u001b[0mresponse\u001b[0m\u001b[1;33m.\u001b[0m\u001b[0mstatus\u001b[0m\u001b[1;33m,\u001b[0m \u001b[0mraw_data\u001b[0m\u001b[1;33m\u001b[0m\u001b[1;33m\u001b[0m\u001b[0m\n\u001b[0;32m    272\u001b[0m             )\n\u001b[1;32m--> 273\u001b[1;33m             \u001b[0mself\u001b[0m\u001b[1;33m.\u001b[0m\u001b[0m_raise_error\u001b[0m\u001b[1;33m(\u001b[0m\u001b[0mresponse\u001b[0m\u001b[1;33m.\u001b[0m\u001b[0mstatus\u001b[0m\u001b[1;33m,\u001b[0m \u001b[0mraw_data\u001b[0m\u001b[1;33m)\u001b[0m\u001b[1;33m\u001b[0m\u001b[1;33m\u001b[0m\u001b[0m\n\u001b[0m\u001b[0;32m    274\u001b[0m \u001b[1;33m\u001b[0m\u001b[0m\n\u001b[0;32m    275\u001b[0m         self.log_request_success(\n",
      "\u001b[1;32mC:\\ProgramData\\Anaconda3\\lib\\site-packages\\elasticsearch\\connection\\base.py\u001b[0m in \u001b[0;36m_raise_error\u001b[1;34m(self, status_code, raw_data)\u001b[0m\n\u001b[0;32m    321\u001b[0m \u001b[1;33m\u001b[0m\u001b[0m\n\u001b[0;32m    322\u001b[0m         raise HTTP_EXCEPTIONS.get(status_code, TransportError)(\n\u001b[1;32m--> 323\u001b[1;33m             \u001b[0mstatus_code\u001b[0m\u001b[1;33m,\u001b[0m \u001b[0merror_message\u001b[0m\u001b[1;33m,\u001b[0m \u001b[0madditional_info\u001b[0m\u001b[1;33m\u001b[0m\u001b[1;33m\u001b[0m\u001b[0m\n\u001b[0m\u001b[0;32m    324\u001b[0m         )\n\u001b[0;32m    325\u001b[0m \u001b[1;33m\u001b[0m\u001b[0m\n",
      "\u001b[1;31mTransportError\u001b[0m: TransportError(429, 'cluster_block_exception', 'index [console_law] blocked by: [TOO_MANY_REQUESTS/12/disk usage exceeded flood-stage watermark, index has read-only-allow-delete block];')"
     ]
    }
   ],
   "source": [
    "result = es.index(index='save_law', body=body)"
   ]
  },
  {
   "cell_type": "code",
   "execution_count": null,
   "metadata": {},
   "outputs": [],
   "source": []
  }
 ],
 "metadata": {
  "kernelspec": {
   "display_name": "Python 3",
   "language": "python",
   "name": "python3"
  },
  "language_info": {
   "codemirror_mode": {
    "name": "ipython",
    "version": 3
   },
   "file_extension": ".py",
   "mimetype": "text/x-python",
   "name": "python",
   "nbconvert_exporter": "python",
   "pygments_lexer": "ipython3",
   "version": "3.7.4"
  }
 },
 "nbformat": 4,
 "nbformat_minor": 2
}
