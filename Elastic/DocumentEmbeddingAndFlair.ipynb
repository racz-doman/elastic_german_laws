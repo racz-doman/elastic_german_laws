{
 "cells": [
  {
   "cell_type": "code",
   "execution_count": 1,
   "metadata": {},
   "outputs": [],
   "source": [
    "from flair.embeddings import WordEmbeddings\n",
    "from flair.data import Sentence"
   ]
  },
  {
   "cell_type": "code",
   "execution_count": 3,
   "metadata": {},
   "outputs": [],
   "source": [
    "from flair.embeddings import DocumentPoolEmbeddings"
   ]
  },
  {
   "cell_type": "code",
   "execution_count": 2,
   "metadata": {
    "scrolled": true
   },
   "outputs": [
    {
     "name": "stdout",
     "output_type": "stream",
     "text": [
      "2021-05-02 16:12:02,033 https://flair.informatik.hu-berlin.de/resources/embeddings/token/de-crawl-fasttext-300d-1M.vectors.npy not found in cache, downloading to C:\\Users\\Doman\\AppData\\Local\\Temp\\tmpdo3loa6u\n"
     ]
    },
    {
     "name": "stderr",
     "output_type": "stream",
     "text": [
      "100%|██████████████████████████████████████████████████████████████| 1199998928/1199998928 [07:43<00:00, 2587601.52B/s]"
     ]
    },
    {
     "name": "stdout",
     "output_type": "stream",
     "text": [
      "2021-05-02 16:19:46,007 copying C:\\Users\\Doman\\AppData\\Local\\Temp\\tmpdo3loa6u to cache at C:\\Users\\Doman\\.flair\\embeddings\\de-crawl-fasttext-300d-1M.vectors.npy\n"
     ]
    },
    {
     "name": "stderr",
     "output_type": "stream",
     "text": [
      "\n"
     ]
    },
    {
     "name": "stdout",
     "output_type": "stream",
     "text": [
      "2021-05-02 16:19:47,344 removing temp file C:\\Users\\Doman\\AppData\\Local\\Temp\\tmpdo3loa6u\n",
      "2021-05-02 16:19:47,593 https://flair.informatik.hu-berlin.de/resources/embeddings/token/de-crawl-fasttext-300d-1M not found in cache, downloading to C:\\Users\\Doman\\AppData\\Local\\Temp\\tmpbqqjb3yp\n"
     ]
    },
    {
     "name": "stderr",
     "output_type": "stream",
     "text": [
      "100%|██████████████████████████████████████████████████████████████████| 42677439/42677439 [00:06<00:00, 7092649.22B/s]"
     ]
    },
    {
     "name": "stdout",
     "output_type": "stream",
     "text": [
      "2021-05-02 16:19:53,877 copying C:\\Users\\Doman\\AppData\\Local\\Temp\\tmpbqqjb3yp to cache at C:\\Users\\Doman\\.flair\\embeddings\\de-crawl-fasttext-300d-1M\n"
     ]
    },
    {
     "name": "stderr",
     "output_type": "stream",
     "text": [
      "\n"
     ]
    },
    {
     "name": "stdout",
     "output_type": "stream",
     "text": [
      "2021-05-02 16:19:53,935 removing temp file C:\\Users\\Doman\\AppData\\Local\\Temp\\tmpbqqjb3yp\n"
     ]
    }
   ],
   "source": [
    "german_embedding = WordEmbeddings('de-crawl')"
   ]
  },
  {
   "cell_type": "code",
   "execution_count": 4,
   "metadata": {},
   "outputs": [],
   "source": [
    "document_embeddings = DocumentPoolEmbeddings([german_embedding])"
   ]
  },
  {
   "cell_type": "code",
   "execution_count": 5,
   "metadata": {},
   "outputs": [],
   "source": [
    "sentence = Sentence('Ausbildungsvorschriften Lehrberufe BGBl Nummer 491/1973 Typ V d. BMHGI /Artikel/Anlage 2 Inkrafttretensdatum 01.10.1973 Index 50/04 Berufsausbildung None:§    2 Verordnung tritt 1    Oktober 1973 Kraft Zuletzt aktualisieren 24.05.2017 Gesetzesnummer 10006307 Dokumentnummer NOR12069515 alt Dokumentnummer N51973136760')"
   ]
  },
  {
   "cell_type": "code",
   "execution_count": 8,
   "metadata": {},
   "outputs": [
    {
     "data": {
      "text/plain": [
       "Sentence: \"Ausbildungsvorschriften Lehrberufe BGBl Nummer 491 / 1973 Typ V d . BMHGI / Artikel / Anlage 2 Inkrafttretensdatum 01.10.1973 Index 50 / 04 Berufsausbildung None :§ 2 Verordnung tritt 1 Oktober 1973 Kraft Zuletzt aktualisieren 24.05.2017 Gesetzesnummer 10006307 Dokumentnummer NOR12069515 alt Dokumentnummer N51973136760\"   [− Tokens: 43]"
      ]
     },
     "execution_count": 8,
     "metadata": {},
     "output_type": "execute_result"
    }
   ],
   "source": [
    "sentence"
   ]
  },
  {
   "cell_type": "code",
   "execution_count": 9,
   "metadata": {},
   "outputs": [],
   "source": [
    "document_embeddings.embed(sentence)"
   ]
  },
  {
   "cell_type": "code",
   "execution_count": 11,
   "metadata": {},
   "outputs": [
    {
     "name": "stdout",
     "output_type": "stream",
     "text": [
      "300\n"
     ]
    }
   ],
   "source": [
    "print(len(sentence.embedding))"
   ]
  },
  {
   "cell_type": "code",
   "execution_count": 5,
   "metadata": {},
   "outputs": [],
   "source": [
    "sentence = Sentence('Gericht Verwaltungsgerichtshof Entscheidungsdatum 26.09.1973 Geschäftszahl 1650/72 Rechtssatz Differenzierung 2 Abs 3 UStG 1959 begünstigen Private betrieben Schwimmbad geradezu unsachlich')"
   ]
  },
  {
   "cell_type": "code",
   "execution_count": 13,
   "metadata": {},
   "outputs": [],
   "source": [
    "document_embeddings.embed(sentence)"
   ]
  },
  {
   "cell_type": "code",
   "execution_count": 14,
   "metadata": {},
   "outputs": [
    {
     "name": "stdout",
     "output_type": "stream",
     "text": [
      "300\n"
     ]
    }
   ],
   "source": [
    "print(len(sentence.embedding))"
   ]
  },
  {
   "cell_type": "code",
   "execution_count": 7,
   "metadata": {},
   "outputs": [],
   "source": [
    "from flair.embeddings import TransformerDocumentEmbeddings"
   ]
  },
  {
   "cell_type": "code",
   "execution_count": 8,
   "metadata": {},
   "outputs": [],
   "source": [
    "embedding = TransformerDocumentEmbeddings('bert-base-german-cased')"
   ]
  },
  {
   "cell_type": "code",
   "execution_count": 6,
   "metadata": {},
   "outputs": [
    {
     "data": {
      "text/plain": [
       "[Sentence: \"Gericht Verwaltungsgerichtshof Entscheidungsdatum 26.09.1973 Geschäftszahl 1650 / 72 Rechtssatz Differenzierung 2 Abs 3 UStG 1959 begünstigen Private betrieben Schwimmbad geradezu unsachlich\"   [− Tokens: 21]]"
      ]
     },
     "execution_count": 6,
     "metadata": {},
     "output_type": "execute_result"
    }
   ],
   "source": [
    "embedding.embed(sentence)"
   ]
  },
  {
   "cell_type": "code",
   "execution_count": 7,
   "metadata": {},
   "outputs": [
    {
     "name": "stdout",
     "output_type": "stream",
     "text": [
      "768\n"
     ]
    }
   ],
   "source": [
    "print(len(sentence.embedding))"
   ]
  },
  {
   "cell_type": "code",
   "execution_count": 4,
   "metadata": {},
   "outputs": [
    {
     "name": "stdout",
     "output_type": "stream",
     "text": [
      "All Modules Loaded!\n",
      "\n"
     ]
    }
   ],
   "source": [
    "try:\n",
    "    import os\n",
    "    import sys\n",
    "    import elasticsearch\n",
    "    from elasticsearch import Elasticsearch, helpers\n",
    "\n",
    "    print(\"All Modules Loaded!\\n\")\n",
    "except Exception as e:\n",
    "    print(\"Some Modules are missing {}\\n\".format(e))"
   ]
  },
  {
   "cell_type": "code",
   "execution_count": 5,
   "metadata": {},
   "outputs": [
    {
     "name": "stdout",
     "output_type": "stream",
     "text": [
      "Elasticsearch is working properly.\n",
      "\n"
     ]
    }
   ],
   "source": [
    "es = Elasticsearch([{'host': 'localhost', 'port': 9200}])\n",
    "if es.ping():\n",
    "    print(\"Elasticsearch is working properly.\\n\")\n",
    "else:\n",
    "    print(\"There is a problem with Elasticsearch.\\n\")"
   ]
  },
  {
   "cell_type": "code",
   "execution_count": 15,
   "metadata": {},
   "outputs": [],
   "source": [
    "with open(\"laws.txt\", encoding='utf-8') as f:\n",
    "    all_laws = f.readlines()\n",
    "all_laws = [x.strip() for x in all_laws]"
   ]
  },
  {
   "cell_type": "code",
   "execution_count": 16,
   "metadata": {},
   "outputs": [
    {
     "data": {
      "text/plain": [
       "'Bundes-Wohn- Siedlungsfonds Verlautbarung Statuts BGBl Nummer 187/1925 aufheben BGBl I Nummer 191/1999 /Artikel/Anlage Art 43 Inkrafttretensdatum 23.06.1925 Außerkrafttretensdatum 31.12.2009 1 Falle Fondshilfe stehen Amt Grundstück Bauführungen Baulichkeiten Fondshilfewerber jederzeit besichtigen lassen 2 Fondshilfe gemeinnützig Bau Siedlungs vereinigung Stiftung währen Amt überdies berechtigen allgemein Überwachung ausüben Handhabung Überwachung stehen Amt insbesondere 3 Fondshilfewerber verpflichten Besichtigung Grundstück Bauführungen Baulichkeiten gestatten erforderlich Beleg vorweisen Gemeinnützige Bau Siedlungs vereinigungen Stiftung überdies verpflichten 4 Gemeinnützige Bau Siedlungs vereinigungen Fondshilfe gemäß 7 Absatz 4 lit e f währen absehen Absatz 3 auferlegen Verpflichtung Amt Generalversammlung Tagesordnung Beschlußfassung Rechnungsabschluß stehen Einladung Mitglied Gesellschafter Generalversammlung satzungsgemäß festgesetzt Frist Einsendung Entwurf Rechnungsabschlusses anzeigen 5 Bestimmung vorhergehenden Absatz gelten sinngemäß 7 Absatz 2 bezeichnen juristisch Person Fondshilfe Anspruch nehmen Überwachung Amt unterwerfen Gebührenbefreiung erlangen 6 Kosten Überwachung tragen Fond'"
      ]
     },
     "execution_count": 16,
     "metadata": {},
     "output_type": "execute_result"
    }
   ],
   "source": [
    "all_laws[0]"
   ]
  },
  {
   "cell_type": "code",
   "execution_count": 3,
   "metadata": {},
   "outputs": [],
   "source": [
    "def vektorositas(data):\n",
    "    sentence = Sentence(Convert(data))\n",
    "    embedding.embed(sentence)\n",
    "    return sentence.embedding.detach().numpy()"
   ]
  },
  {
   "cell_type": "code",
   "execution_count": 37,
   "metadata": {},
   "outputs": [],
   "source": [
    "sentence = Sentence(\"all_laws\")"
   ]
  },
  {
   "cell_type": "code",
   "execution_count": 4,
   "metadata": {},
   "outputs": [],
   "source": [
    "def Convert(string):\n",
    "    li = list(string.split(\" \"))\n",
    "    return li"
   ]
  },
  {
   "cell_type": "code",
   "execution_count": 61,
   "metadata": {},
   "outputs": [],
   "source": [
    "import numpy as np"
   ]
  },
  {
   "cell_type": "code",
   "execution_count": 50,
   "metadata": {},
   "outputs": [],
   "source": [
    "def generator(data):\n",
    "    for law in data:\n",
    "        yield {\n",
    "            \"_index\": \"bert_law\",\n",
    "            \"law\": law,\n",
    "            \"law_vector\": vektorositas(law),\n",
    "        }"
   ]
  },
  {
   "cell_type": "code",
   "execution_count": 8,
   "metadata": {},
   "outputs": [
    {
     "name": "stdout",
     "output_type": "stream",
     "text": [
      "Data successfully uploaded.\n"
     ]
    }
   ],
   "source": [
    "try:\n",
    "    helpers.bulk(es, generator(\"esd\",\"asd\"))\n",
    "    print(\"Data successfully uploaded.\")\n",
    "except Exception as e:\n",
    "    print(\"Something went wrong during upload {}\".format(e))"
   ]
  },
  {
   "cell_type": "code",
   "execution_count": 9,
   "metadata": {},
   "outputs": [],
   "source": [
    "vektor=vektorositas(\"Griechenland Österreich interessieren Minimalsätze Tarif Stelle\")"
   ]
  },
  {
   "cell_type": "code",
   "execution_count": 10,
   "metadata": {},
   "outputs": [],
   "source": [
    "body = {\n",
    "    \"query\": {\n",
    "        \"script_score\": {\n",
    "        \"query\": {\"match_all\": {}},\n",
    "        \"script\": {\n",
    "          \"source\": \"cosineSimilarity(params.query_vector, 'law_vector') + 1.0\",\n",
    "          \"params\": {\"query_vector\": vektor}\n",
    "        }\n",
    "      }\n",
    "    }\n",
    "}"
   ]
  },
  {
   "cell_type": "code",
   "execution_count": 32,
   "metadata": {},
   "outputs": [
    {
     "name": "stdout",
     "output_type": "stream",
     "text": [
      "The result:\n",
      "\n",
      "{'took': 2, 'timed_out': False, '_shards': {'total': 1, 'successful': 1, 'skipped': 0, 'failed': 0}, 'hits': {'total': {'value': 1, 'relation': 'eq'}, 'max_score': 0.2876821, 'hits': [{'_index': 'saved_laws', '_type': '_doc', '_id': 'NVcUIH0BTLRiPHw7RWFb', '_score': 0.2876821, '_source': {'question': 'kerdes', 'anwsere': 'valasz'}}]}}\n"
     ]
    }
   ],
   "source": [
    "result = es.search(index='bert_laws', body=body)\n",
    "print(\"The result:\\n\")\n",
    "print(result)"
   ]
  },
  {
   "cell_type": "code",
   "execution_count": 39,
   "metadata": {},
   "outputs": [],
   "source": [
    "body = {\n",
    "    \"question\": \"asd\",\n",
    "    \"anwsere\": \"aese\"\n",
    "}"
   ]
  },
  {
   "cell_type": "code",
   "execution_count": null,
   "metadata": {},
   "outputs": [],
   "source": [
    "result = es.index(index='save_law', body=body)"
   ]
  },
  {
   "cell_type": "code",
   "execution_count": null,
   "metadata": {},
   "outputs": [],
   "source": []
  }
 ],
 "metadata": {
  "kernelspec": {
   "display_name": "Python 3",
   "language": "python",
   "name": "python3"
  },
  "language_info": {
   "codemirror_mode": {
    "name": "ipython",
    "version": 3
   },
   "file_extension": ".py",
   "mimetype": "text/x-python",
   "name": "python",
   "nbconvert_exporter": "python",
   "pygments_lexer": "ipython3",
   "version": "3.7.4"
  }
 },
 "nbformat": 4,
 "nbformat_minor": 2
}
