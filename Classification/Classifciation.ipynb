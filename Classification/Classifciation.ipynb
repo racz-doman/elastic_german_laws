{
 "cells": [
  {
   "cell_type": "markdown",
   "metadata": {},
   "source": [
    "# Imports"
   ]
  },
  {
   "cell_type": "code",
   "execution_count": null,
   "metadata": {},
   "outputs": [],
   "source": [
    "from sklearn.model_selection import train_test_split as split\n",
    "from tqdm import tqdm\n",
    "from sklearn.feature_extraction.text import TfidfVectorizer, CountVectorizer\n",
    "from sklearn.neighbors import KNeighborsClassifier\n",
    "from sklearn.ensemble import RandomForestClassifier, BaggingClassifier\n",
    "from sklearn.multiclass import OneVsRestClassifier\n",
    "from sklearn.naive_bayes import MultinomialNB\n",
    "from sklearn.linear_model import LogisticRegression\n",
    "from sklearn.svm import SVC\n",
    "import matplotlib.pyplot as plt\n",
    "import numpy as np\n",
    "from spacy.lang.de import German\n",
    "from spacy.lang.de.stop_words import STOP_WORDS\n",
    "import pandas as pd\n",
    "import json\n",
    "from collections import defaultdict\n",
    "import matplotlib.pyplot as plt\n",
    "from sklearn import metrics\n",
    "import eli5\n",
    "from sklearn.svm import LinearSVC\n",
    "import faiss\n",
    "import numpy as np"
   ]
  },
  {
   "cell_type": "markdown",
   "metadata": {},
   "source": [
    "### Helper functions & classes"
   ]
  },
  {
   "cell_type": "code",
   "execution_count": null,
   "metadata": {},
   "outputs": [],
   "source": [
    "def listToString(s):\n",
    "    str1 = \" \"\n",
    "    return (str1.join(s))"
   ]
  },
  {
   "cell_type": "code",
   "execution_count": null,
   "metadata": {},
   "outputs": [],
   "source": [
    "def confusion_matrix(cm, title='Confusion matrix', cmap=plt.cm.Blues, labels=[]):\n",
    "    plt.imshow(cm, interpolation='nearest', cmap=cmap)\n",
    "    plt.title(title)\n",
    "    plt.colorbar()\n",
    "    tick_marks = np.arange(len(labels))\n",
    "    plt.xticks(tick_marks, labels, rotation=45)\n",
    "    plt.yticks(tick_marks, labels)\n",
    "    plt.tight_layout()\n",
    "    plt.ylabel('True label')\n",
    "    plt.xlabel('Predicted label')\n",
    "    plt.show() "
   ]
  },
  {
   "cell_type": "code",
   "execution_count": null,
   "metadata": {},
   "outputs": [],
   "source": [
    "class FaissKNeighbors:\n",
    "    def __init__(self, k=5):\n",
    "        self.index = None\n",
    "        self.y = None\n",
    "        self.k = k\n",
    "\n",
    "    def fit(self, X, y):\n",
    "        self.index = faiss.IndexFlatL2(X.shape[1])\n",
    "        self.index.add(X.astype(np.float32))\n",
    "        self.y = y\n",
    "\n",
    "    def predict(self, X):\n",
    "        distances, indices = self.index.search(X.astype(np.float32), k=self.k)\n",
    "        votes = np.array(self.y)[indices]\n",
    "        predictions = np.array([np.argmax(np.bincount(x)) for x in votes])\n",
    "        return predictions"
   ]
  },
  {
   "cell_type": "markdown",
   "metadata": {},
   "source": [
    "## Reading Data"
   ]
  },
  {
   "cell_type": "code",
   "execution_count": null,
   "metadata": {},
   "outputs": [],
   "source": [
    "f = open(\"tr_data_with_category.txt\", \"r\", encoding=\"utf-8\")\n",
    "data_laws = f.readlines()\n",
    "f.close()\n",
    "all_category_n = []\n",
    "final_laws = []\n",
    "for i, var in tqdm(enumerate(data_laws), 'Token and Lemmatization'):\n",
    "    temp = json.loads(var)\n",
    "    law_category = temp[\"Label\"]\n",
    "    law_content = temp[\"Data\"][\"text\"]\n",
    "    if(law_category=='Justiz'):\n",
    "        law_content.pop(\"comments\", None)\n",
    "        law_content.pop(\"Gericht\", None)\n",
    "        law_content.pop(\"Entscheidungsdatum\", None)\n",
    "        law_content.pop(\"Geschäftszahl\", None)\n",
    "        law_content.pop(\"Norm\", None)\n",
    "        law_content.pop(\"Entscheidungstexte\", None)\n",
    "        law_content.pop(\"Rechtssatznummer\", None)\n",
    "        law_content.pop(\"European Case Law Identifier\", None)\n",
    "    elif(law_category=='Vfgh'):\n",
    "        law_content.pop(\"comments\", None)\n",
    "        law_content.pop(\"Gericht\", None)\n",
    "        law_content.pop(\"Verfassungsgerichtshof\", None)\n",
    "        law_content.pop(\"Entscheidungsdatum\", None)\n",
    "        law_content.pop(\"Geschäftszahl\", None)\n",
    "        law_content.pop(\"Sammlungsnummer\", None)\n",
    "        law_content.pop(\"Spruch\", None)\n",
    "        law_content.pop(\"Begründung\", None)\n",
    "        law_content.pop(\"European Case Law Identifier\", None)\n",
    "    elif(law_category=='RegV'):\n",
    "        law_content.pop(\"comments\", None)\n",
    "    elif(law_category=='Gemeinderecht'):\n",
    "        law_content.pop(\"comments\", None)\n",
    "    elif(law_category=='Bundesnormen'):\n",
    "        law_content.pop(\"comments\", None)\n",
    "        law_content.pop(\"Kurztitel\", None)\n",
    "        law_content.pop(\"Kundmachungsorgan\", None)\n",
    "        law_content.pop(\"§/Artikel/Anlage\", None)\n",
    "        law_content.pop(\"Außerkrafttretensdatum\", None)\n",
    "        law_content.pop(\"Inkrafttretensdatum\", None)\n",
    "        law_content.pop(\"Beachte\", None)\n",
    "        law_content.pop(\"Typ\", None)\n",
    "        law_content.pop(\"Index\", None)\n",
    "    elif(law_category=='Lgbl'):\n",
    "        law_content.pop(\"comments\", None)\n",
    "        law_content.pop(\"Datum der Kundmachung\", None)\n",
    "        law_content.pop(\"Fundstelle\", None)\n",
    "        law_content.pop(\"Bundesland\", None)\n",
    "    elif(law_category=='Normenliste'):\n",
    "        law_content.pop(\"comments\", None)\n",
    "        law_content.pop(\"Dokumentnummer\", None)\n",
    "        law_content.pop(\"Typ\", None)\n",
    "        law_content.pop(\"Abkürzung des Verwaltungsgerichtshofes\", None)\n",
    "        law_content.pop(\"Fundstelle\", None)\n",
    "        law_content.pop(\"Abkürzung\", None)\n",
    "        law_content.pop(\"Index\", None)\n",
    "        law_content.pop(\"Anmerkung\", None)\n",
    "    elif(law_category=='Begut'):\n",
    "        law_content.pop(\"comments\", None)\n",
    "    elif(law_category=='Vwgh'):\n",
    "        law_content.pop(\"comments\", None)\n",
    "        law_content.pop(\"Gericht\", None)\n",
    "        law_content.pop(\"Entscheidungsdatum\", None)\n",
    "        law_content.pop(\"Geschäftszahl\", None)\n",
    "        law_content.pop(\"European Case Law Identifier\", None)\n",
    "        law_content.pop(\"Beachte\", None)\n",
    "        law_content.pop(\"Hinweis auf Stammrechtssatz\", None)\n",
    "    elif(law_category=='Landesnormen'):\n",
    "        law_content.pop(\"comments\", None)\n",
    "        law_content.pop(\"Bundesland\", None)\n",
    "        law_content.pop(\"Kurztitel\", None)\n",
    "        law_content.pop(\"Kundmachungsorgan\", None)\n",
    "        law_content.pop(\"Typ\", None)\n",
    "        law_content.pop(\"§/Artikel/Anlage\", None)\n",
    "        law_content.pop(\"Außerkrafttretensdatum\", None)\n",
    "        law_content.pop(\"Index\", None)\n",
    "        law_content.pop(\"Im RIS seit\", None)\n",
    "        law_content.pop(\"Inkrafttretensdatum\", None)\n",
    "        law_content.pop(\"Außerkrafttretensdatum\", None)\n",
    "        law_content.pop(\"Gesetzesnummer\", None)\n",
    "        law_content.pop(\"Dokumentnummer\", None)\n",
    "        law_content.pop(\"Änderung\", None)\n",
    "    \n",
    "    temp_all = []\n",
    "    for the_key, the_value in law_content.items():\n",
    "        temp_all.append(the_value)\n",
    "    final_laws.append(temp_all)\n",
    "    all_category_n.append(law_category)"
   ]
  },
  {
   "cell_type": "markdown",
   "metadata": {},
   "source": [
    "### Modify data"
   ]
  },
  {
   "cell_type": "code",
   "execution_count": null,
   "metadata": {},
   "outputs": [],
   "source": [
    "prep_laws = []\n",
    "for words in final_laws:\n",
    "    temp = [j for sub in words for j in sub]\n",
    "    prep_laws.append(temp)"
   ]
  },
  {
   "cell_type": "code",
   "execution_count": null,
   "metadata": {},
   "outputs": [],
   "source": [
    "final_laws = []\n",
    "for words in prep_laws:\n",
    "    final_laws.append(listToString(words))"
   ]
  },
  {
   "cell_type": "code",
   "execution_count": null,
   "metadata": {},
   "outputs": [],
   "source": [
    "all_category = []\n",
    "fullnew_law = []\n",
    "fullnew_category = []\n",
    "for word in all_category_n:\n",
    "    if word=='Justiz':\n",
    "        all_category.append(1)\n",
    "    elif word=='Vfgh':\n",
    "        all_category.append(2)\n",
    "    elif word=='RegV':\n",
    "        all_category.append(3)\n",
    "    elif word=='Gemeinderecht':\n",
    "        all_category.append(4)\n",
    "    elif word=='Bundesnormen':\n",
    "        all_category.append(5)\n",
    "    elif word=='Lgbl':\n",
    "        all_category.append(6)\n",
    "    elif word=='Normenliste':\n",
    "        all_category.append(7)\n",
    "    elif word=='Begut':\n",
    "        all_category.append(8)\n",
    "    elif word=='Vwgh':\n",
    "        all_category.append(9) \n",
    "    elif word=='Landesnormen':\n",
    "        all_category.append(10)\n",
    "    else:\n",
    "        print(word)\n",
    "\n",
    "for i, asd in enumerate(final_laws):\n",
    "    if(len(asd) > 1):\n",
    "        fullnew_law.append(asd)\n",
    "        fullnew_category.append(all_category[i])"
   ]
  },
  {
   "cell_type": "markdown",
   "metadata": {},
   "source": [
    "## Vectiorizing"
   ]
  },
  {
   "cell_type": "code",
   "execution_count": null,
   "metadata": {},
   "outputs": [],
   "source": [
    "tr_laws,tst_laws,tr_labels,tst_labels = split(fullnew_law,fullnew_category,test_size=0.3)"
   ]
  },
  {
   "cell_type": "code",
   "execution_count": null,
   "metadata": {},
   "outputs": [],
   "source": [
    "tr_vecs = []\n",
    "tst_vecs = []"
   ]
  },
  {
   "cell_type": "code",
   "execution_count": null,
   "metadata": {},
   "outputs": [],
   "source": [
    "vectorizer = TfidfVectorizer(max_features = 2000)\n",
    "vectorizer = vectorizer.fit(tr_laws)\n",
    "vectors = vectorizer.transform(tr_laws).toarray()\n",
    "tr_vecs.append(vectors)"
   ]
  },
  {
   "cell_type": "code",
   "execution_count": null,
   "metadata": {},
   "outputs": [],
   "source": [
    "vectors = vectorizer.transform(tst_laws).toarray()\n",
    "tst_vecs.append(vectors)"
   ]
  },
  {
   "cell_type": "markdown",
   "metadata": {},
   "source": [
    "## Classifiers and fitting"
   ]
  },
  {
   "cell_type": "code",
   "execution_count": null,
   "metadata": {},
   "outputs": [],
   "source": [
    "classifier = LogisticRegression\n",
    "params = {'penalty':'l2','solver':'sag'}\n",
    "model = classifier(**params)\n",
    "model.fit(tr_vecs[0],tr_labels)"
   ]
  },
  {
   "cell_type": "code",
   "execution_count": null,
   "metadata": {},
   "outputs": [],
   "source": [
    "classifier = RandomForestClassifier\n",
    "params = {'n_estimators':15}\n",
    "model = classifier(**params)\n",
    "model.fit(tr_vecs[0],tr_labels)"
   ]
  },
  {
   "cell_type": "code",
   "execution_count": null,
   "metadata": {},
   "outputs": [],
   "source": [
    "classifier = MultinomialNB\n",
    "params = {'alpha':5,'fit_prior':True}\n",
    "model = classifier(**params)\n",
    "model.fit(tr_vecs[0],tr_labels)"
   ]
  },
  {
   "cell_type": "code",
   "execution_count": null,
   "metadata": {},
   "outputs": [],
   "source": [
    "classifier = KNeighborsClassifier\n",
    "params = {'n_neighbors':5,'leaf_size':15}\n",
    "model = classifier(**params)\n",
    "model.fit(tr_vecs[0],tr_labels)"
   ]
  },
  {
   "cell_type": "code",
   "execution_count": null,
   "metadata": {},
   "outputs": [],
   "source": [
    "classifier = LinearSVC\n",
    "params = {'C':10}\n",
    "model = classifier(**params)\n",
    "model.fit(tr_vecs[0],tr_labels)"
   ]
  },
  {
   "cell_type": "code",
   "execution_count": null,
   "metadata": {},
   "outputs": [],
   "source": [
    "classifier = FaissKNeighbors()\n",
    "classifier.fit(tr_vecs[0],tr_labels)"
   ]
  },
  {
   "cell_type": "markdown",
   "metadata": {},
   "source": [
    "## Predict and results"
   ]
  },
  {
   "cell_type": "code",
   "execution_count": null,
   "metadata": {},
   "outputs": [],
   "source": [
    "test_data = np.array(tst_vecs[0])\n",
    "test_labels = np.array(tst_labels).reshape(-1,1)\n",
    "predicted_tst_labels = model.predict(test_data) #change model to classifier with FaissKNeighbors\n",
    "conf = np.zeros([11,11])\n",
    "confnorm = np.zeros([11,11])\n",
    "for i in range(0,test_data.shape[0]):\n",
    "    j = test_labels[i,:]\n",
    "    k = predicted_tst_labels[i]\n",
    "    conf[j,k] = conf[j,k] + 1\n",
    "for i in range(0,11):\n",
    "    confnorm[i,:] = conf[i,:] / np.sum(conf[i,:])\n",
    "confusion_matrix(confnorm, labels=[i for i in range(11)])\n",
    "acc = model.score(test_data,test_labels)"
   ]
  },
  {
   "cell_type": "code",
   "execution_count": null,
   "metadata": {},
   "outputs": [],
   "source": [
    "print(acc)\n",
    "print(accuracy_score(test_labels, predicted_tst_labels))"
   ]
  },
  {
   "cell_type": "markdown",
   "metadata": {},
   "source": [
    "## Explain results (regression)"
   ]
  },
  {
   "cell_type": "code",
   "execution_count": null,
   "metadata": {},
   "outputs": [],
   "source": [
    "category_names = ['Justiz','Vfgh','RegV','Gemeinderecht','Bundesnormen','Lgbl','Normenliste','Begut','Vwgh','Landesnormen']\n",
    "eli5.explain_weights(model, feature_names=vectorizer.get_feature_names(), target_names=category_names)"
   ]
  }
 ],
 "metadata": {
  "kernelspec": {
   "display_name": "Python 3",
   "language": "python",
   "name": "python3"
  },
  "language_info": {
   "codemirror_mode": {
    "name": "ipython",
    "version": 3
   },
   "file_extension": ".py",
   "mimetype": "text/x-python",
   "name": "python",
   "nbconvert_exporter": "python",
   "pygments_lexer": "ipython3",
   "version": "3.7.4"
  }
 },
 "nbformat": 4,
 "nbformat_minor": 2
}
