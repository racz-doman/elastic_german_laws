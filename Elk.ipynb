{
 "cells": [
  {
   "cell_type": "markdown",
   "metadata": {},
   "source": [
    "## Imports"
   ]
  },
  {
   "cell_type": "code",
   "execution_count": null,
   "metadata": {},
   "outputs": [],
   "source": [
    "try:\n",
    "    import uuid\n",
    "    from time import sleep\n",
    "\n",
    "    from datetime import datetime\n",
    "    import elasticsearch\n",
    "    from elasticsearch import Elasticsearch\n",
    "    \n",
    "    import json\n",
    "    from tqdm import tqdm\n",
    "    import os\n",
    "    import sys\n",
    "    \n",
    "    from elasticsearch import helpers\n",
    "    print(\"Loaded successful.\")\n",
    "except Exception as E:\n",
    "    print(\"Load failed: {} \".format(e))"
   ]
  },
  {
   "cell_type": "code",
   "execution_count": null,
   "metadata": {},
   "outputs": [],
   "source": [
    "ENDPOINT = \"http://localhost:9200/\"\n",
    "es = Elasticsearch(timeout=600, hosts=ENDPOINT)\n",
    "es.ping()"
   ]
  },
  {
   "cell_type": "markdown",
   "metadata": {},
   "source": [
    "### Reading Data"
   ]
  },
  {
   "cell_type": "code",
   "execution_count": null,
   "metadata": {},
   "outputs": [],
   "source": [
    "with open(\"test_laws.txt\", encoding='utf-8') as f:\n",
    "    all_laws = f.readlines()\n",
    "all_laws = [x.strip() for x in all_laws]"
   ]
  },
  {
   "cell_type": "code",
   "execution_count": null,
   "metadata": {},
   "outputs": [],
   "source": [
    "from pandas import DataFrame\n",
    "df = DataFrame(all_laws)"
   ]
  },
  {
   "cell_type": "code",
   "execution_count": null,
   "metadata": {},
   "outputs": [],
   "source": [
    "def generator(all_laws):\n",
    "    for c, line in enumerate(all_laws):\n",
    "        yield {\n",
    "            '_index': 'mylkfirst',\n",
    "            '_type' : '_doc',\n",
    "            '_id': c,\n",
    "            '_source': {\n",
    "                line\n",
    "            }\n",
    "        }\n",
    "    raise StopIteration"
   ]
  },
  {
   "cell_type": "code",
   "execution_count": null,
   "metadata": {},
   "outputs": [],
   "source": [
    "mycustom = generator(all_laws)"
   ]
  },
  {
   "cell_type": "code",
   "execution_count": null,
   "metadata": {},
   "outputs": [],
   "source": [
    "mycustom"
   ]
  },
  {
   "cell_type": "code",
   "execution_count": null,
   "metadata": {},
   "outputs": [],
   "source": [
    "next(mycustom)"
   ]
  },
  {
   "cell_type": "markdown",
   "metadata": {},
   "source": [
    "### Settings"
   ]
  },
  {
   "cell_type": "code",
   "execution_count": null,
   "metadata": {},
   "outputs": [],
   "source": [
    "Settings = {\n",
    "    \"settings\" : {\n",
    "        \"number_of_shards\": 1,\n",
    "        \"number_of_replicas\": 0\n",
    "    },\n",
    "    \"mappings\" : {\n",
    "        \"properties\": {\n",
    "            \"Label\": { \"type\": \"keyword\" }\n",
    "        }\n",
    "    }\n",
    "}"
   ]
  },
  {
   "cell_type": "code",
   "execution_count": null,
   "metadata": {},
   "outputs": [],
   "source": [
    "Indexname = ''\n",
    "my = es.indices.create(index='mylkfirst', ignore=[400,404], body=Settings)"
   ]
  },
  {
   "cell_type": "code",
   "execution_count": null,
   "metadata": {},
   "outputs": [],
   "source": [
    "my"
   ]
  },
  {
   "cell_type": "markdown",
   "metadata": {},
   "source": [
    "### Upload Data to Elasticsearch"
   ]
  },
  {
   "cell_type": "code",
   "execution_count": null,
   "metadata": {},
   "outputs": [],
   "source": [
    "try:\n",
    "    result = helpers.bulk(es, generator(all_laws))\n",
    "    print(\"Success\")\n",
    "except Exception as e:\n",
    "    pass"
   ]
  },
  {
   "cell_type": "code",
   "execution_count": null,
   "metadata": {},
   "outputs": [],
   "source": [
    "result = helpers.bulk(es, generator(all_laws))"
   ]
  },
  {
   "cell_type": "code",
   "execution_count": 46,
   "metadata": {},
   "outputs": [],
   "source": [
    "def get_data_from_text_file(self):\n",
    "    return [l.strip() for l in open(str(self), encoding=\"utf8\", errors='ignore')]\n",
    "\n",
    "docs = get_data_from_text_file(\"laws.json\")"
   ]
  },
  {
   "cell_type": "code",
   "execution_count": 47,
   "metadata": {},
   "outputs": [
    {
     "name": "stdout",
     "output_type": "stream",
     "text": [
      "Dict docs length: 18\n",
      "\n",
      "Attempting to index the list of docs using helpers.bulk()\n",
      "helpers.bulk() RESPONSE: (18, [])\n",
      "helpers.bulk() RESPONSE: [\n",
      "    18,\n",
      "    []\n",
      "]\n"
     ]
    }
   ],
   "source": [
    "# define an empty list for the Elasticsearch docs\n",
    "doc_list = []\n",
    "\n",
    "for num, doc in enumerate(docs):\n",
    "\n",
    "    # catch any JSON loads() errors\n",
    "    try:\n",
    "        doc = doc.replace(\"True\", \"true\")\n",
    "        doc = doc.replace(\"False\", \"false\")\n",
    "\n",
    "        dict_doc = json.loads(doc)\n",
    "\n",
    "        dict_doc[\"timestamp\"] = datetime.now()\n",
    "\n",
    "        dict_doc[\"_id\"] = num\n",
    "\n",
    "        doc_list += [dict_doc]\n",
    "    except json.decoder.JSONDecodeError as err:\n",
    "        print (\"ERROR for num:\", num, \"-- JSONDecodeError:\", err, \"for doc:\", doc)\n",
    "\n",
    "print (\"Dict docs length:\", len(doc_list))\n",
    "\n",
    "try:\n",
    "    print (\"\\nAttempting to index the list of docs using helpers.bulk()\")\n",
    "\n",
    "    resp = helpers.bulk(\n",
    "        es,\n",
    "        doc_list,\n",
    "        index = \"some_index\",\n",
    "        doc_type = \"_doc\"\n",
    "    )\n",
    "    \n",
    "    print (\"helpers.bulk() RESPONSE:\", resp)\n",
    "    print (\"helpers.bulk() RESPONSE:\", json.dumps(resp, indent=4))\n",
    "\n",
    "except Exception as err:\n",
    "    # print any errors returned \n",
    "    print(\"Elasticsearch helpers.bulk() ERROR:\", err)"
   ]
  },
  {
   "cell_type": "code",
   "execution_count": null,
   "metadata": {},
   "outputs": [],
   "source": []
  }
 ],
 "metadata": {
  "kernelspec": {
   "display_name": "Python 3",
   "language": "python",
   "name": "python3"
  },
  "language_info": {
   "codemirror_mode": {
    "name": "ipython",
    "version": 3
   },
   "file_extension": ".py",
   "mimetype": "text/x-python",
   "name": "python",
   "nbconvert_exporter": "python",
   "pygments_lexer": "ipython3",
   "version": "3.7.4"
  }
 },
 "nbformat": 4,
 "nbformat_minor": 2
}
